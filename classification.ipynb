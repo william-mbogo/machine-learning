{
  "nbformat": 4,
  "nbformat_minor": 0,
  "metadata": {
    "colab": {
      "name": "classification.ipynb",
      "provenance": [],
      "authorship_tag": "ABX9TyNuy2T72IdAb1WPK0wIKzgK",
      "include_colab_link": true
    },
    "kernelspec": {
      "name": "python3",
      "display_name": "Python 3"
    },
    "language_info": {
      "name": "python"
    }
  },
  "cells": [
    {
      "cell_type": "markdown",
      "metadata": {
        "id": "view-in-github",
        "colab_type": "text"
      },
      "source": [
        "<a href=\"https://colab.research.google.com/github/willmaxi/machine-learning/blob/main/classification.ipynb\" target=\"_parent\"><img src=\"https://colab.research.google.com/assets/colab-badge.svg\" alt=\"Open In Colab\"/></a>"
      ]
    },
    {
      "cell_type": "code",
      "metadata": {
        "colab": {
          "base_uri": "https://localhost:8080/"
        },
        "id": "Tv4Zio3gm_cY",
        "outputId": "70a33835-0c09-458b-b73f-221692c563aa"
      },
      "source": [
        "%tensorflow_version 2.x  # this line is not required unless you are in a notebook"
      ],
      "execution_count": 1,
      "outputs": [
        {
          "output_type": "stream",
          "text": [
            "`%tensorflow_version` only switches the major version: 1.x or 2.x.\n",
            "You set: `2.x  # this line is not required unless you are in a notebook`. This will be interpreted as: `2.x`.\n",
            "\n",
            "\n",
            "TensorFlow 2.x selected.\n"
          ],
          "name": "stdout"
        }
      ]
    },
    {
      "cell_type": "code",
      "metadata": {
        "id": "4oEjaQmQn01M"
      },
      "source": [
        "from __future__ import absolute_import, division, print_function, unicode_literals\n",
        "\n",
        "\n",
        "import tensorflow as tf\n",
        "\n",
        "import pandas as pd"
      ],
      "execution_count": 3,
      "outputs": []
    },
    {
      "cell_type": "code",
      "metadata": {
        "id": "AgDgdXMIoCNU"
      },
      "source": [
        "CSV_COLUMN_NAMES = ['SepalLength', 'SepalWidth', 'PetalLength', 'PetalWidth', 'Species']\n",
        "SPECIES = ['Setosa', 'Versicolor', 'Virginica']\n",
        "# Lets define some constants to help us later on"
      ],
      "execution_count": 5,
      "outputs": []
    },
    {
      "cell_type": "code",
      "metadata": {
        "colab": {
          "base_uri": "https://localhost:8080/"
        },
        "id": "OsXjhHvJoIpz",
        "outputId": "8455b070-2f1d-4819-e3fd-bf253d1a318d"
      },
      "source": [
        "train_path = tf.keras.utils.get_file(\n",
        "    \"iris_training.csv\", \"https://storage.googleapis.com/download.tensorflow.org/data/iris_training.csv\")\n",
        "test_path = tf.keras.utils.get_file(\n",
        "    \"iris_test.csv\", \"https://storage.googleapis.com/download.tensorflow.org/data/iris_test.csv\")\n",
        "\n",
        "train = pd.read_csv(train_path, names=CSV_COLUMN_NAMES, header=0)\n",
        "test = pd.read_csv(test_path, names=CSV_COLUMN_NAMES, header=0)\n",
        "# Here we use keras (a module inside of TensorFlow) to grab our datasets and read them into a pandas dataframe"
      ],
      "execution_count": 6,
      "outputs": [
        {
          "output_type": "stream",
          "text": [
            "Downloading data from https://storage.googleapis.com/download.tensorflow.org/data/iris_training.csv\n",
            "8192/2194 [================================================================================================================] - 0s 0us/step\n",
            "Downloading data from https://storage.googleapis.com/download.tensorflow.org/data/iris_test.csv\n",
            "8192/573 [============================================================================================================================================================================================================================================================================================================================================================================================================================================] - 0s 0us/step\n"
          ],
          "name": "stdout"
        }
      ]
    },
    {
      "cell_type": "code",
      "metadata": {
        "colab": {
          "base_uri": "https://localhost:8080/",
          "height": 204
        },
        "id": "LYrAgWdkoOTT",
        "outputId": "7feb44cf-fd0a-48f7-f175-c1290f5b0797"
      },
      "source": [
        "train.head()"
      ],
      "execution_count": 7,
      "outputs": [
        {
          "output_type": "execute_result",
          "data": {
            "text/html": [
              "<div>\n",
              "<style scoped>\n",
              "    .dataframe tbody tr th:only-of-type {\n",
              "        vertical-align: middle;\n",
              "    }\n",
              "\n",
              "    .dataframe tbody tr th {\n",
              "        vertical-align: top;\n",
              "    }\n",
              "\n",
              "    .dataframe thead th {\n",
              "        text-align: right;\n",
              "    }\n",
              "</style>\n",
              "<table border=\"1\" class=\"dataframe\">\n",
              "  <thead>\n",
              "    <tr style=\"text-align: right;\">\n",
              "      <th></th>\n",
              "      <th>SepalLength</th>\n",
              "      <th>SepalWidth</th>\n",
              "      <th>PetalLength</th>\n",
              "      <th>PetalWidth</th>\n",
              "      <th>Species</th>\n",
              "    </tr>\n",
              "  </thead>\n",
              "  <tbody>\n",
              "    <tr>\n",
              "      <th>0</th>\n",
              "      <td>6.4</td>\n",
              "      <td>2.8</td>\n",
              "      <td>5.6</td>\n",
              "      <td>2.2</td>\n",
              "      <td>2</td>\n",
              "    </tr>\n",
              "    <tr>\n",
              "      <th>1</th>\n",
              "      <td>5.0</td>\n",
              "      <td>2.3</td>\n",
              "      <td>3.3</td>\n",
              "      <td>1.0</td>\n",
              "      <td>1</td>\n",
              "    </tr>\n",
              "    <tr>\n",
              "      <th>2</th>\n",
              "      <td>4.9</td>\n",
              "      <td>2.5</td>\n",
              "      <td>4.5</td>\n",
              "      <td>1.7</td>\n",
              "      <td>2</td>\n",
              "    </tr>\n",
              "    <tr>\n",
              "      <th>3</th>\n",
              "      <td>4.9</td>\n",
              "      <td>3.1</td>\n",
              "      <td>1.5</td>\n",
              "      <td>0.1</td>\n",
              "      <td>0</td>\n",
              "    </tr>\n",
              "    <tr>\n",
              "      <th>4</th>\n",
              "      <td>5.7</td>\n",
              "      <td>3.8</td>\n",
              "      <td>1.7</td>\n",
              "      <td>0.3</td>\n",
              "      <td>0</td>\n",
              "    </tr>\n",
              "  </tbody>\n",
              "</table>\n",
              "</div>"
            ],
            "text/plain": [
              "   SepalLength  SepalWidth  PetalLength  PetalWidth  Species\n",
              "0          6.4         2.8          5.6         2.2        2\n",
              "1          5.0         2.3          3.3         1.0        1\n",
              "2          4.9         2.5          4.5         1.7        2\n",
              "3          4.9         3.1          1.5         0.1        0\n",
              "4          5.7         3.8          1.7         0.3        0"
            ]
          },
          "metadata": {
            "tags": []
          },
          "execution_count": 7
        }
      ]
    },
    {
      "cell_type": "code",
      "metadata": {
        "colab": {
          "base_uri": "https://localhost:8080/",
          "height": 204
        },
        "id": "U4woDWaCoQ_N",
        "outputId": "04a002af-596f-4a58-fa95-9dacda7e8bb4"
      },
      "source": [
        "train_y = train.pop('Species')\n",
        "test_y = test.pop('Species')\n",
        "train.head() # the species column is now gone"
      ],
      "execution_count": 8,
      "outputs": [
        {
          "output_type": "execute_result",
          "data": {
            "text/html": [
              "<div>\n",
              "<style scoped>\n",
              "    .dataframe tbody tr th:only-of-type {\n",
              "        vertical-align: middle;\n",
              "    }\n",
              "\n",
              "    .dataframe tbody tr th {\n",
              "        vertical-align: top;\n",
              "    }\n",
              "\n",
              "    .dataframe thead th {\n",
              "        text-align: right;\n",
              "    }\n",
              "</style>\n",
              "<table border=\"1\" class=\"dataframe\">\n",
              "  <thead>\n",
              "    <tr style=\"text-align: right;\">\n",
              "      <th></th>\n",
              "      <th>SepalLength</th>\n",
              "      <th>SepalWidth</th>\n",
              "      <th>PetalLength</th>\n",
              "      <th>PetalWidth</th>\n",
              "    </tr>\n",
              "  </thead>\n",
              "  <tbody>\n",
              "    <tr>\n",
              "      <th>0</th>\n",
              "      <td>6.4</td>\n",
              "      <td>2.8</td>\n",
              "      <td>5.6</td>\n",
              "      <td>2.2</td>\n",
              "    </tr>\n",
              "    <tr>\n",
              "      <th>1</th>\n",
              "      <td>5.0</td>\n",
              "      <td>2.3</td>\n",
              "      <td>3.3</td>\n",
              "      <td>1.0</td>\n",
              "    </tr>\n",
              "    <tr>\n",
              "      <th>2</th>\n",
              "      <td>4.9</td>\n",
              "      <td>2.5</td>\n",
              "      <td>4.5</td>\n",
              "      <td>1.7</td>\n",
              "    </tr>\n",
              "    <tr>\n",
              "      <th>3</th>\n",
              "      <td>4.9</td>\n",
              "      <td>3.1</td>\n",
              "      <td>1.5</td>\n",
              "      <td>0.1</td>\n",
              "    </tr>\n",
              "    <tr>\n",
              "      <th>4</th>\n",
              "      <td>5.7</td>\n",
              "      <td>3.8</td>\n",
              "      <td>1.7</td>\n",
              "      <td>0.3</td>\n",
              "    </tr>\n",
              "  </tbody>\n",
              "</table>\n",
              "</div>"
            ],
            "text/plain": [
              "   SepalLength  SepalWidth  PetalLength  PetalWidth\n",
              "0          6.4         2.8          5.6         2.2\n",
              "1          5.0         2.3          3.3         1.0\n",
              "2          4.9         2.5          4.5         1.7\n",
              "3          4.9         3.1          1.5         0.1\n",
              "4          5.7         3.8          1.7         0.3"
            ]
          },
          "metadata": {
            "tags": []
          },
          "execution_count": 8
        }
      ]
    },
    {
      "cell_type": "code",
      "metadata": {
        "colab": {
          "base_uri": "https://localhost:8080/"
        },
        "id": "e6HqHAdFoY-D",
        "outputId": "c81b6687-2a6a-4b71-942e-951395ba611a"
      },
      "source": [
        "train.shape  # we have 120 entires with 4 features"
      ],
      "execution_count": 9,
      "outputs": [
        {
          "output_type": "execute_result",
          "data": {
            "text/plain": [
              "(120, 4)"
            ]
          },
          "metadata": {
            "tags": []
          },
          "execution_count": 9
        }
      ]
    },
    {
      "cell_type": "code",
      "metadata": {
        "id": "GlAEMCx5oeKd"
      },
      "source": [
        "def input_fn(features, labels, training=True, batch_size=256):\n",
        "    # Convert the inputs to a Dataset.\n",
        "    dataset = tf.data.Dataset.from_tensor_slices((dict(features), labels))\n",
        "\n",
        "    # Shuffle and repeat if you are in training mode.\n",
        "    if training:\n",
        "        dataset = dataset.shuffle(1000).repeat()\n",
        "    \n",
        "    return dataset.batch(batch_size)"
      ],
      "execution_count": 12,
      "outputs": []
    },
    {
      "cell_type": "code",
      "metadata": {
        "colab": {
          "base_uri": "https://localhost:8080/"
        },
        "id": "N2DQPT62opq4",
        "outputId": "6cf8bec1-3056-4f98-dbef-4a3ecae5d317"
      },
      "source": [
        "# Feature columns describe how to use the input.\n",
        "my_feature_columns = []\n",
        "for key in train.keys():\n",
        "    my_feature_columns.append(tf.feature_column.numeric_column(key=key))\n",
        "print(my_feature_columns)"
      ],
      "execution_count": 13,
      "outputs": [
        {
          "output_type": "stream",
          "text": [
            "[NumericColumn(key='SepalLength', shape=(1,), default_value=None, dtype=tf.float32, normalizer_fn=None), NumericColumn(key='SepalWidth', shape=(1,), default_value=None, dtype=tf.float32, normalizer_fn=None), NumericColumn(key='PetalLength', shape=(1,), default_value=None, dtype=tf.float32, normalizer_fn=None), NumericColumn(key='PetalWidth', shape=(1,), default_value=None, dtype=tf.float32, normalizer_fn=None)]\n"
          ],
          "name": "stdout"
        }
      ]
    },
    {
      "cell_type": "code",
      "metadata": {
        "colab": {
          "base_uri": "https://localhost:8080/"
        },
        "id": "8FKXf5vropm3",
        "outputId": "790503b9-2467-4d58-d02e-7e962410d9b0"
      },
      "source": [
        "# Build a DNN with 2 hidden layers with 30 and 10 hidden nodes each.\n",
        "classifier = tf.estimator.DNNClassifier(\n",
        "    feature_columns=my_feature_columns,\n",
        "    # Two hidden layers of 30 and 10 nodes respectively.\n",
        "    hidden_units=[30, 10],\n",
        "    # The model must choose between 3 classes.\n",
        "    n_classes=3)"
      ],
      "execution_count": 14,
      "outputs": [
        {
          "output_type": "stream",
          "text": [
            "INFO:tensorflow:Using default config.\n",
            "WARNING:tensorflow:Using temporary folder as model directory: /tmp/tmpi6okuzk0\n",
            "INFO:tensorflow:Using config: {'_model_dir': '/tmp/tmpi6okuzk0', '_tf_random_seed': None, '_save_summary_steps': 100, '_save_checkpoints_steps': None, '_save_checkpoints_secs': 600, '_session_config': allow_soft_placement: true\n",
            "graph_options {\n",
            "  rewrite_options {\n",
            "    meta_optimizer_iterations: ONE\n",
            "  }\n",
            "}\n",
            ", '_keep_checkpoint_max': 5, '_keep_checkpoint_every_n_hours': 10000, '_log_step_count_steps': 100, '_train_distribute': None, '_device_fn': None, '_protocol': None, '_eval_distribute': None, '_experimental_distribute': None, '_experimental_max_worker_delay_secs': None, '_session_creation_timeout_secs': 7200, '_checkpoint_save_graph_def': True, '_service': None, '_cluster_spec': ClusterSpec({}), '_task_type': 'worker', '_task_id': 0, '_global_id_in_cluster': 0, '_master': '', '_evaluation_master': '', '_is_chief': True, '_num_ps_replicas': 0, '_num_worker_replicas': 1}\n"
          ],
          "name": "stdout"
        }
      ]
    },
    {
      "cell_type": "code",
      "metadata": {
        "colab": {
          "base_uri": "https://localhost:8080/"
        },
        "id": "eLusMJ-mpxKE",
        "outputId": "31828649-780d-47ad-ba4c-818bf8f5443b"
      },
      "source": [
        "classifier.train(\n",
        "    input_fn=lambda: input_fn(train, train_y, training=True),\n",
        "    steps=5000)\n",
        "# We include a lambda to avoid creating an inner function previously"
      ],
      "execution_count": 15,
      "outputs": [
        {
          "output_type": "stream",
          "text": [
            "WARNING:tensorflow:From /usr/local/lib/python3.7/dist-packages/tensorflow/python/training/training_util.py:236: Variable.initialized_value (from tensorflow.python.ops.variables) is deprecated and will be removed in a future version.\n",
            "Instructions for updating:\n",
            "Use Variable.read_value. Variables in 2.X are initialized automatically both in eager and graph (inside tf.defun) contexts.\n",
            "INFO:tensorflow:Calling model_fn.\n",
            "WARNING:tensorflow:From /usr/local/lib/python3.7/dist-packages/tensorflow/python/keras/optimizer_v2/adagrad.py:83: calling Constant.__init__ (from tensorflow.python.ops.init_ops) with dtype is deprecated and will be removed in a future version.\n",
            "Instructions for updating:\n",
            "Call initializer instance with the dtype argument instead of passing it to the constructor\n",
            "INFO:tensorflow:Done calling model_fn.\n",
            "INFO:tensorflow:Create CheckpointSaverHook.\n",
            "INFO:tensorflow:Graph was finalized.\n",
            "INFO:tensorflow:Running local_init_op.\n",
            "INFO:tensorflow:Done running local_init_op.\n",
            "INFO:tensorflow:Calling checkpoint listeners before saving checkpoint 0...\n",
            "INFO:tensorflow:Saving checkpoints for 0 into /tmp/tmpi6okuzk0/model.ckpt.\n",
            "INFO:tensorflow:Calling checkpoint listeners after saving checkpoint 0...\n",
            "INFO:tensorflow:loss = 2.013084, step = 0\n",
            "INFO:tensorflow:global_step/sec: 438.347\n",
            "INFO:tensorflow:loss = 1.1494443, step = 100 (0.230 sec)\n",
            "INFO:tensorflow:global_step/sec: 527.699\n",
            "INFO:tensorflow:loss = 1.0134525, step = 200 (0.190 sec)\n",
            "INFO:tensorflow:global_step/sec: 491.22\n",
            "INFO:tensorflow:loss = 0.95221287, step = 300 (0.204 sec)\n",
            "INFO:tensorflow:global_step/sec: 493.436\n",
            "INFO:tensorflow:loss = 0.9132356, step = 400 (0.205 sec)\n",
            "INFO:tensorflow:global_step/sec: 441.326\n",
            "INFO:tensorflow:loss = 0.87421244, step = 500 (0.228 sec)\n",
            "INFO:tensorflow:global_step/sec: 543.639\n",
            "INFO:tensorflow:loss = 0.85364556, step = 600 (0.184 sec)\n",
            "INFO:tensorflow:global_step/sec: 540.138\n",
            "INFO:tensorflow:loss = 0.8263259, step = 700 (0.184 sec)\n",
            "INFO:tensorflow:global_step/sec: 457.807\n",
            "INFO:tensorflow:loss = 0.8008207, step = 800 (0.219 sec)\n",
            "INFO:tensorflow:global_step/sec: 553.995\n",
            "INFO:tensorflow:loss = 0.78352934, step = 900 (0.181 sec)\n",
            "INFO:tensorflow:global_step/sec: 437.247\n",
            "INFO:tensorflow:loss = 0.7632286, step = 1000 (0.225 sec)\n",
            "INFO:tensorflow:global_step/sec: 567.035\n",
            "INFO:tensorflow:loss = 0.7470453, step = 1100 (0.178 sec)\n",
            "INFO:tensorflow:global_step/sec: 538.581\n",
            "INFO:tensorflow:loss = 0.72317576, step = 1200 (0.185 sec)\n",
            "INFO:tensorflow:global_step/sec: 491.964\n",
            "INFO:tensorflow:loss = 0.69993675, step = 1300 (0.204 sec)\n",
            "INFO:tensorflow:global_step/sec: 520.041\n",
            "INFO:tensorflow:loss = 0.69532764, step = 1400 (0.192 sec)\n",
            "INFO:tensorflow:global_step/sec: 482.356\n",
            "INFO:tensorflow:loss = 0.681528, step = 1500 (0.207 sec)\n",
            "INFO:tensorflow:global_step/sec: 520.887\n",
            "INFO:tensorflow:loss = 0.6678213, step = 1600 (0.193 sec)\n",
            "INFO:tensorflow:global_step/sec: 524.237\n",
            "INFO:tensorflow:loss = 0.65396047, step = 1700 (0.190 sec)\n",
            "INFO:tensorflow:global_step/sec: 535.937\n",
            "INFO:tensorflow:loss = 0.63855493, step = 1800 (0.187 sec)\n",
            "INFO:tensorflow:global_step/sec: 548.669\n",
            "INFO:tensorflow:loss = 0.6266798, step = 1900 (0.182 sec)\n",
            "INFO:tensorflow:global_step/sec: 522.676\n",
            "INFO:tensorflow:loss = 0.6139507, step = 2000 (0.188 sec)\n",
            "INFO:tensorflow:global_step/sec: 486.281\n",
            "INFO:tensorflow:loss = 0.6033168, step = 2100 (0.206 sec)\n",
            "INFO:tensorflow:global_step/sec: 507.293\n",
            "INFO:tensorflow:loss = 0.5983201, step = 2200 (0.202 sec)\n",
            "INFO:tensorflow:global_step/sec: 515.069\n",
            "INFO:tensorflow:loss = 0.59181607, step = 2300 (0.192 sec)\n",
            "INFO:tensorflow:global_step/sec: 492.883\n",
            "INFO:tensorflow:loss = 0.57828414, step = 2400 (0.203 sec)\n",
            "INFO:tensorflow:global_step/sec: 560.43\n",
            "INFO:tensorflow:loss = 0.56985146, step = 2500 (0.179 sec)\n",
            "INFO:tensorflow:global_step/sec: 491.512\n",
            "INFO:tensorflow:loss = 0.5605565, step = 2600 (0.203 sec)\n",
            "INFO:tensorflow:global_step/sec: 544.26\n",
            "INFO:tensorflow:loss = 0.5574274, step = 2700 (0.180 sec)\n",
            "INFO:tensorflow:global_step/sec: 451.766\n",
            "INFO:tensorflow:loss = 0.5537683, step = 2800 (0.225 sec)\n",
            "INFO:tensorflow:global_step/sec: 560.094\n",
            "INFO:tensorflow:loss = 0.5314508, step = 2900 (0.183 sec)\n",
            "INFO:tensorflow:global_step/sec: 481.792\n",
            "INFO:tensorflow:loss = 0.53050405, step = 3000 (0.203 sec)\n",
            "INFO:tensorflow:global_step/sec: 521.87\n",
            "INFO:tensorflow:loss = 0.52037466, step = 3100 (0.188 sec)\n",
            "INFO:tensorflow:global_step/sec: 532.092\n",
            "INFO:tensorflow:loss = 0.50770515, step = 3200 (0.189 sec)\n",
            "INFO:tensorflow:global_step/sec: 538.331\n",
            "INFO:tensorflow:loss = 0.5135461, step = 3300 (0.185 sec)\n",
            "INFO:tensorflow:global_step/sec: 522.072\n",
            "INFO:tensorflow:loss = 0.5091989, step = 3400 (0.194 sec)\n",
            "INFO:tensorflow:global_step/sec: 541.978\n",
            "INFO:tensorflow:loss = 0.48863113, step = 3500 (0.185 sec)\n",
            "INFO:tensorflow:global_step/sec: 508.817\n",
            "INFO:tensorflow:loss = 0.4943658, step = 3600 (0.195 sec)\n",
            "INFO:tensorflow:global_step/sec: 541.187\n",
            "INFO:tensorflow:loss = 0.48981965, step = 3700 (0.186 sec)\n",
            "INFO:tensorflow:global_step/sec: 500.323\n",
            "INFO:tensorflow:loss = 0.48432812, step = 3800 (0.201 sec)\n",
            "INFO:tensorflow:global_step/sec: 494.986\n",
            "INFO:tensorflow:loss = 0.48096997, step = 3900 (0.202 sec)\n",
            "INFO:tensorflow:global_step/sec: 505.884\n",
            "INFO:tensorflow:loss = 0.49634212, step = 4000 (0.197 sec)\n",
            "INFO:tensorflow:global_step/sec: 499.02\n",
            "INFO:tensorflow:loss = 0.46140018, step = 4100 (0.201 sec)\n",
            "INFO:tensorflow:global_step/sec: 543.356\n",
            "INFO:tensorflow:loss = 0.4654295, step = 4200 (0.183 sec)\n",
            "INFO:tensorflow:global_step/sec: 520.739\n",
            "INFO:tensorflow:loss = 0.44859546, step = 4300 (0.189 sec)\n",
            "INFO:tensorflow:global_step/sec: 536.026\n",
            "INFO:tensorflow:loss = 0.45270047, step = 4400 (0.186 sec)\n",
            "INFO:tensorflow:global_step/sec: 504.623\n",
            "INFO:tensorflow:loss = 0.45173502, step = 4500 (0.202 sec)\n",
            "INFO:tensorflow:global_step/sec: 546.845\n",
            "INFO:tensorflow:loss = 0.46019122, step = 4600 (0.181 sec)\n",
            "INFO:tensorflow:global_step/sec: 563.251\n",
            "INFO:tensorflow:loss = 0.4372424, step = 4700 (0.179 sec)\n",
            "INFO:tensorflow:global_step/sec: 543.706\n",
            "INFO:tensorflow:loss = 0.43726563, step = 4800 (0.184 sec)\n",
            "INFO:tensorflow:global_step/sec: 513.947\n",
            "INFO:tensorflow:loss = 0.44657505, step = 4900 (0.194 sec)\n",
            "INFO:tensorflow:Calling checkpoint listeners before saving checkpoint 5000...\n",
            "INFO:tensorflow:Saving checkpoints for 5000 into /tmp/tmpi6okuzk0/model.ckpt.\n",
            "INFO:tensorflow:Calling checkpoint listeners after saving checkpoint 5000...\n",
            "INFO:tensorflow:Loss for final step: 0.42006168.\n"
          ],
          "name": "stdout"
        },
        {
          "output_type": "execute_result",
          "data": {
            "text/plain": [
              "<tensorflow_estimator.python.estimator.canned.dnn.DNNClassifierV2 at 0x7fcca12bc390>"
            ]
          },
          "metadata": {
            "tags": []
          },
          "execution_count": 15
        }
      ]
    },
    {
      "cell_type": "code",
      "metadata": {
        "colab": {
          "base_uri": "https://localhost:8080/"
        },
        "id": "UGvmgVSXqEwv",
        "outputId": "2e730727-4f02-4005-97f2-86b7e647138d"
      },
      "source": [
        "eval_result = classifier.evaluate(\n",
        "    input_fn=lambda: input_fn(test, test_y, training=False))\n",
        "\n",
        "print('\\nTest set accuracy: {accuracy:0.3f}\\n'.format(**eval_result))"
      ],
      "execution_count": 16,
      "outputs": [
        {
          "output_type": "stream",
          "text": [
            "INFO:tensorflow:Calling model_fn.\n",
            "INFO:tensorflow:Done calling model_fn.\n",
            "INFO:tensorflow:Starting evaluation at 2021-05-25T13:16:39Z\n",
            "INFO:tensorflow:Graph was finalized.\n",
            "INFO:tensorflow:Restoring parameters from /tmp/tmpi6okuzk0/model.ckpt-5000\n",
            "INFO:tensorflow:Running local_init_op.\n",
            "INFO:tensorflow:Done running local_init_op.\n",
            "INFO:tensorflow:Inference Time : 0.25598s\n",
            "INFO:tensorflow:Finished evaluation at 2021-05-25-13:16:39\n",
            "INFO:tensorflow:Saving dict for global step 5000: accuracy = 0.9, average_loss = 0.49631473, global_step = 5000, loss = 0.49631473\n",
            "INFO:tensorflow:Saving 'checkpoint_path' summary for global step 5000: /tmp/tmpi6okuzk0/model.ckpt-5000\n",
            "\n",
            "Test set accuracy: 0.900\n",
            "\n"
          ],
          "name": "stdout"
        }
      ]
    },
    {
      "cell_type": "code",
      "metadata": {
        "colab": {
          "base_uri": "https://localhost:8080/"
        },
        "id": "x7Vwbs_6qqkj",
        "outputId": "75e17306-4940-45ac-f3dd-e8bdcb0e3095"
      },
      "source": [
        "def input_fn(features, batch_size=256):\n",
        "    # Convert the inputs to a Dataset without labels.\n",
        "    return tf.data.Dataset.from_tensor_slices(dict(features)).batch(batch_size)\n",
        "\n",
        "features = ['SepalLength', 'SepalWidth', 'PetalLength', 'PetalWidth']\n",
        "predict = {}\n",
        "\n",
        "print(\"Please type numeric values as prompted.\")\n",
        "for feature in features:\n",
        "  valid = True\n",
        "  while valid: \n",
        "    val = input(feature + \": \")\n",
        "    if not val.isdigit(): valid = False\n",
        "\n",
        "  predict[feature] = [float(val)]\n",
        "\n",
        "predictions = classifier.predict(input_fn=lambda: input_fn(predict))\n",
        "for pred_dict in predictions:\n",
        "    print(pred_dict)\n",
        "    class_id = pred_dict['class_ids'][0]\n",
        "    probability = pred_dict['probabilities'][class_id]\n",
        "\n",
        "    print('Prediction is \"{}\" ({:.1f}%)'.format(\n",
        "        SPECIES[class_id], 100 * probability))\n"
      ],
      "execution_count": 19,
      "outputs": [
        {
          "output_type": "stream",
          "text": [
            "Please type numeric values as prompted.\n",
            "SepalLength: 5.1\n",
            "SepalWidth: 3.3\n",
            "PetalLength: 1.7\n",
            "PetalWidth: 0.5\n",
            "INFO:tensorflow:Calling model_fn.\n",
            "INFO:tensorflow:Done calling model_fn.\n",
            "INFO:tensorflow:Graph was finalized.\n",
            "INFO:tensorflow:Restoring parameters from /tmp/tmpi6okuzk0/model.ckpt-5000\n",
            "INFO:tensorflow:Running local_init_op.\n",
            "INFO:tensorflow:Done running local_init_op.\n",
            "{'logits': array([ 1.0647641, -0.7794449, -1.3171468], dtype=float32), 'probabilities': array([0.7996646 , 0.12646726, 0.07386814], dtype=float32), 'class_ids': array([0]), 'classes': array([b'0'], dtype=object), 'all_class_ids': array([0, 1, 2], dtype=int32), 'all_classes': array([b'0', b'1', b'2'], dtype=object)}\n",
            "Prediction is \"Setosa\" (80.0%)\n"
          ],
          "name": "stdout"
        }
      ]
    }
  ]
}